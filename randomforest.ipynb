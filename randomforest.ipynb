{
 "cells": [
  {
   "cell_type": "code",
   "execution_count": 39,
   "metadata": {},
   "outputs": [],
   "source": [
    "from sklearn.ensemble import RandomForestClassifier\n",
    "import pickle as pkl\n",
    "from sklearn.metrics import accuracy_score, classification_report\n",
    "\n",
    "\n",
    "with open(\"credit_risk_dataset.pkl\", \"rb\") as f:\n",
    "    x_credit_train, x_credit_test, y_credit_train, y_credit_test= pkl.load(f)"
   ]
  },
  {
   "cell_type": "code",
   "execution_count": 40,
   "metadata": {},
   "outputs": [
    {
     "data": {
      "text/plain": [
       "0.8402897127424502"
      ]
     },
     "execution_count": 40,
     "metadata": {},
     "output_type": "execute_result"
    }
   ],
   "source": [
    "from yellowbrick.classifier import confusion_matrix\n",
    "\n",
    "\n",
    "tree_credit_train = RandomForestClassifier(criterion = \"entropy\", n_estimators =100)\n",
    "tree_credit_train.fit(x_credit_train, y_credit_train)\n",
    "previsao = tree_credit_train.predict(x_credit_test)\n",
    "accuracy_score(previsao, y_credit_test)"
   ]
  },
  {
   "cell_type": "code",
   "execution_count": 41,
   "metadata": {},
   "outputs": [
    {
     "data": {
      "text/plain": [
       "0.8402897127424502"
      ]
     },
     "execution_count": 41,
     "metadata": {},
     "output_type": "execute_result"
    },
    {
     "data": {
      "image/png": "[encoded data removed]",
      "text/plain": [
       "<Figure size 800x550 with 1 Axes>"
      ]
     },
     "metadata": {},
     "output_type": "display_data"
    }
   ],
   "source": [
    "from yellowbrick.classifier import ConfusionMatrix , ClassificationReport\n",
    "\n",
    "\n",
    "cm = ConfusionMatrix(tree_credit_train)\n",
    "cm.fit(x_credit_train, y_credit_train)\n",
    "cm.score(x_credit_test,y_credit_test)"
   ]
  },
  {
   "cell_type": "code",
   "execution_count": 42,
   "metadata": {},
   "outputs": [
    {
     "name": "stdout",
     "output_type": "stream",
     "text": [
      "              precision    recall  f1-score   support\n",
      "\n",
      "           0       0.93      0.88      0.90      6853\n",
      "           1       0.50      0.64      0.56      1293\n",
      "\n",
      "    accuracy                           0.84      8146\n",
      "   macro avg       0.71      0.76      0.73      8146\n",
      "weighted avg       0.86      0.84      0.85      8146\n",
      "\n"
     ]
    }
   ],
   "source": [
    "print(classification_report(previsao, y_credit_test))"
   ]
  },
  {
   "cell_type": "markdown",
   "metadata": {},
   "source": [
    "CENSUS"
   ]
  },
  {
   "cell_type": "code",
   "execution_count": 43,
   "metadata": {},
   "outputs": [],
   "source": [
    "with open('census.pkl', 'rb') as f:\n",
    "    x_census_train, x_census_test, y_census_train, y_census_test = pkl.load(f)\n",
    "\n",
    "    "
   ]
  },
  {
   "cell_type": "code",
   "execution_count": 52,
   "metadata": {},
   "outputs": [
    {
     "data": {
      "text/plain": [
       "0.8507676560900717"
      ]
     },
     "execution_count": 52,
     "metadata": {},
     "output_type": "execute_result"
    }
   ],
   "source": [
    "tree_census_train = RandomForestClassifier(criterion = \"entropy\", random_state=0, n_estimators =100)\n",
    "tree_census_train.fit(x_census_train, y_census_train)\n",
    "previsao_census = tree_census_train.predict(x_census_test)\n",
    "accuracy_score(previsao_census, y_census_test)"
   ]
  },
  {
   "cell_type": "code",
   "execution_count": 53,
   "metadata": {},
   "outputs": [
    {
     "data": {
      "text/plain": [
       "0.8507676560900717"
      ]
     },
     "execution_count": 53,
     "metadata": {},
     "output_type": "execute_result"
    },
    {
     "data": {
      "image/png": "[encoded data removed]",
      "text/plain": [
       "<Figure size 800x550 with 1 Axes>"
      ]
     },
     "metadata": {},
     "output_type": "display_data"
    }
   ],
   "source": [
    "cm = ConfusionMatrix(tree_census_train)\n",
    "cm.fit(x_census_train, y_census_train)\n",
    "cm.score(x_census_test,y_census_test)"
   ]
  },
  {
   "cell_type": "code",
   "execution_count": 56,
   "metadata": {},
   "outputs": [
    {
     "name": "stdout",
     "output_type": "stream",
     "text": [
      "              precision    recall  f1-score   support\n",
      "\n",
      "       <=50K       0.93      0.88      0.90      3876\n",
      "        >50K       0.62      0.73      0.67      1009\n",
      "\n",
      "    accuracy                           0.85      4885\n",
      "   macro avg       0.77      0.81      0.79      4885\n",
      "weighted avg       0.86      0.85      0.86      4885\n",
      "\n"
     ]
    }
   ],
   "source": [
    "print(classification_report(previsao_census, y_census_test))"
   ]
  }
 ],
 "metadata": {
  "kernelspec": {
   "display_name": "Python 3",
   "language": "python",
   "name": "python3"
  },
  "language_info": {
   "name": "python",
   "version": "3.11.0"
  }
 },
 "nbformat": 4,
 "nbformat_minor": 2
}
